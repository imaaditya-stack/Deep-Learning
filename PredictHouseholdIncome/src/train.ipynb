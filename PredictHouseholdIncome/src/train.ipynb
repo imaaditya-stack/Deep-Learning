{
  "nbformat": 4,
  "nbformat_minor": 0,
  "metadata": {
    "colab": {
      "name": "Image_class_hack.ipynb",
      "provenance": [],
      "collapsed_sections": []
    },
    "kernelspec": {
      "name": "python3",
      "display_name": "Python 3"
    },
    "accelerator": "GPU"
  },
  "cells": [
    {
      "cell_type": "code",
      "metadata": {
        "id": "zBt29iwtstTM",
        "colab_type": "code",
        "outputId": "d56641c3-d0bb-43e6-bd56-21cfb765e360",
        "colab": {
          "base_uri": "https://localhost:8080/",
          "height": 35
        }
      },
      "source": [
        "%tensorflow_version 2.x"
      ],
      "execution_count": 0,
      "outputs": [
        {
          "output_type": "stream",
          "text": [
            "TensorFlow 2.x selected.\n"
          ],
          "name": "stdout"
        }
      ]
    },
    {
      "cell_type": "code",
      "metadata": {
        "id": "R6xeiuoetcRX",
        "colab_type": "code",
        "colab": {}
      },
      "source": [
        "import pandas as pd\n",
        "import numpy as np\n",
        "import os\n",
        "import cv2\n",
        "import matplotlib.pyplot as plt\n",
        "from tensorflow.keras.layers import Dense,Dropout,Convolution2D,MaxPooling2D,GlobalAveragePooling2D\n",
        "from tensorflow.keras.preprocessing import image\n",
        "from tensorflow.keras.preprocessing.image import ImageDataGenerator\n",
        "from tensorflow.keras.models import Sequential\n",
        "from sklearn.metrics import classification_report, confusion_matrix\n",
        "from keras.callbacks import EarlyStopping, ModelCheckpoint"
      ],
      "execution_count": 0,
      "outputs": []
    },
    {
      "cell_type": "code",
      "metadata": {
        "id": "2NStbzCrufoQ",
        "colab_type": "code",
        "colab": {}
      },
      "source": [
        "%matplotlib inline"
      ],
      "execution_count": 0,
      "outputs": []
    },
    {
      "cell_type": "code",
      "metadata": {
        "id": "lLxMDkZCt__r",
        "colab_type": "code",
        "colab": {}
      },
      "source": [
        "num_classes = 5\n",
        "\n",
        "#Building Model\n",
        "model = Sequential()\n",
        "#CONV=>CONV=>MAX\n",
        "model.add(Convolution2D(32, (10, 10), input_shape=(250, 250, 3), activation='relu',padding='same'))\n",
        "model.add(Convolution2D(32, (5, 5), activation='relu',padding='same'))\n",
        "model.add(MaxPooling2D(pool_size=(2, 2)))\n",
        "#CONV=>MAX\n",
        "model.add(Convolution2D(64, (5, 5),activation='relu',padding='same'))\n",
        "model.add(MaxPooling2D(pool_size=(2, 2)))\n",
        "#CONV=>MAX\n",
        "model.add(Convolution2D(200, (5, 5),activation='relu',padding='same'))\n",
        "model.add(MaxPooling2D(pool_size=(2, 2)))\n",
        "\n",
        "model.add(GlobalAveragePooling2D())\n",
        "model.add(Dense(100, activation='relu'))\n",
        "model.add(Dropout(0.2))\n",
        "model.add(Dense(50, activation='relu'))\n",
        "model.add(Dropout(0.2))\n",
        "model.add(Dense(num_classes, activation='softmax'))"
      ],
      "execution_count": 0,
      "outputs": []
    },
    {
      "cell_type": "code",
      "metadata": {
        "id": "ZDN481pZCtWZ",
        "colab_type": "code",
        "colab": {}
      },
      "source": [
        "model.compile(loss='categorical_crossentropy', optimizer='adam', metrics=['accuracy'])"
      ],
      "execution_count": 0,
      "outputs": []
    },
    {
      "cell_type": "code",
      "metadata": {
        "id": "gZA4MGKpu1bF",
        "colab_type": "code",
        "outputId": "7dc48c57-726c-4cfe-c8f4-25534c89c799",
        "colab": {
          "base_uri": "https://localhost:8080/",
          "height": 607
        }
      },
      "source": [
        "model.summary()"
      ],
      "execution_count": 0,
      "outputs": [
        {
          "output_type": "stream",
          "text": [
            "Model: \"sequential_3\"\n",
            "_________________________________________________________________\n",
            "Layer (type)                 Output Shape              Param #   \n",
            "=================================================================\n",
            "conv2d_12 (Conv2D)           (None, 250, 250, 32)      9632      \n",
            "_________________________________________________________________\n",
            "conv2d_13 (Conv2D)           (None, 250, 250, 32)      25632     \n",
            "_________________________________________________________________\n",
            "max_pooling2d_9 (MaxPooling2 (None, 125, 125, 32)      0         \n",
            "_________________________________________________________________\n",
            "conv2d_14 (Conv2D)           (None, 125, 125, 64)      51264     \n",
            "_________________________________________________________________\n",
            "max_pooling2d_10 (MaxPooling (None, 62, 62, 64)        0         \n",
            "_________________________________________________________________\n",
            "conv2d_15 (Conv2D)           (None, 62, 62, 200)       320200    \n",
            "_________________________________________________________________\n",
            "max_pooling2d_11 (MaxPooling (None, 31, 31, 200)       0         \n",
            "_________________________________________________________________\n",
            "global_average_pooling2d_3 ( (None, 200)               0         \n",
            "_________________________________________________________________\n",
            "dense_9 (Dense)              (None, 100)               20100     \n",
            "_________________________________________________________________\n",
            "dropout_6 (Dropout)          (None, 100)               0         \n",
            "_________________________________________________________________\n",
            "dense_10 (Dense)             (None, 50)                5050      \n",
            "_________________________________________________________________\n",
            "dropout_7 (Dropout)          (None, 50)                0         \n",
            "_________________________________________________________________\n",
            "dense_11 (Dense)             (None, 5)                 255       \n",
            "=================================================================\n",
            "Total params: 432,133\n",
            "Trainable params: 432,133\n",
            "Non-trainable params: 0\n",
            "_________________________________________________________________\n"
          ],
          "name": "stdout"
        }
      ]
    },
    {
      "cell_type": "code",
      "metadata": {
        "id": "1D5rm749vHfg",
        "colab_type": "code",
        "outputId": "037bbbf8-dca5-45a9-a65d-05bf3446f34d",
        "colab": {
          "base_uri": "https://localhost:8080/",
          "height": 52
        }
      },
      "source": [
        "WIDTH = 250\n",
        "HEIGHT = 250\n",
        "BATCH_SIZE = 16\n",
        "train_data_dir=r'/content/drive/My Drive/data/train'\n",
        "\n",
        "#DATA AUGMENTATION\n",
        "train_datagen = ImageDataGenerator(\n",
        "    samplewise_center=True,\n",
        "    rescale=1./255,\n",
        "    rotation_range=40,\n",
        "    width_shift_range=0.2,\n",
        "    height_shift_range=0.2,\n",
        "    shear_range=0.2,\n",
        "    zoom_range=0.2,\n",
        "    brightness_range=[0.05 , 0.1],\n",
        "    channel_shift_range=0.1,\n",
        "    horizontal_flip=True,\n",
        "    fill_mode='nearest',\n",
        "    validation_split=0.2)\n",
        "\n",
        "train_generator = train_datagen.flow_from_directory(\n",
        "    train_data_dir,#directory as training data\n",
        "    target_size=(HEIGHT, WIDTH),\n",
        "    color_mode=\"rgb\",\n",
        "    batch_size=BATCH_SIZE,\n",
        "    class_mode='categorical',\n",
        "    subset='training') # set as training data\n",
        "\n",
        "validation_generator = train_datagen.flow_from_directory(\n",
        "    train_data_dir, # same directory as training data\n",
        "    target_size=(HEIGHT, WIDTH),\n",
        "    batch_size=BATCH_SIZE,\n",
        "    color_mode=\"rgb\",\n",
        "    class_mode='categorical',\n",
        "    subset='validation') # set as validation data"
      ],
      "execution_count": 0,
      "outputs": [
        {
          "output_type": "stream",
          "text": [
            "Found 3249 images belonging to 5 classes.\n",
            "Found 810 images belonging to 5 classes.\n"
          ],
          "name": "stdout"
        }
      ]
    },
    {
      "cell_type": "code",
      "metadata": {
        "id": "2hb8y0SbKvOI",
        "colab_type": "code",
        "outputId": "5f140fa6-805c-4875-c362-84e33af6d0a3",
        "colab": {
          "base_uri": "https://localhost:8080/",
          "height": 35
        }
      },
      "source": [
        "# Defining Keras callbacks\n",
        "\n",
        "filepath = '/content/drive/My Drive/best_model.h5'\n",
        "checkpoint = ModelCheckpoint(filepath, monitor='val_accuracy', verbose=1, save_best_only=True, mode='max')\n",
        "\n",
        "es = EarlyStopping(monitor='val_loss', mode='min', verbose=1, patience=10)"
      ],
      "execution_count": 0,
      "outputs": [
        {
          "output_type": "stream",
          "text": [
            "Using TensorFlow backend.\n"
          ],
          "name": "stderr"
        }
      ]
    },
    {
      "cell_type": "code",
      "metadata": {
        "id": "TsI0dVtk2WJj",
        "colab_type": "code",
        "outputId": "cbcfa7e5-46d2-4faa-ba06-a4fbd4e4877a",
        "colab": {
          "base_uri": "https://localhost:8080/",
          "height": 1000
        }
      },
      "source": [
        "#Training the model\n",
        "\n",
        "epochs = 100\n",
        "\n",
        "history = model.fit_generator(\n",
        "    train_generator,\n",
        "    steps_per_epoch = train_generator.n// BATCH_SIZE,\n",
        "    validation_data = validation_generator, \n",
        "    validation_steps = validation_generator.n// BATCH_SIZE,\n",
        "    epochs = epochs,\n",
        "    verbose=1,\n",
        "    callbacks=[es, checkpoint]\n",
        "    )"
      ],
      "execution_count": 0,
      "outputs": [
        {
          "output_type": "stream",
          "text": [
            "WARNING:tensorflow:From <ipython-input-7-638b4bf5f0f4>:8: Model.fit_generator (from tensorflow.python.keras.engine.training) is deprecated and will be removed in a future version.\n",
            "Instructions for updating:\n",
            "Please use Model.fit, which supports generators.\n",
            "WARNING:tensorflow:sample_weight modes were coerced from\n",
            "  ...\n",
            "    to  \n",
            "  ['...']\n",
            "WARNING:tensorflow:sample_weight modes were coerced from\n",
            "  ...\n",
            "    to  \n",
            "  ['...']\n",
            "Train for 203 steps, validate for 50 steps\n",
            "Epoch 1/100\n",
            "202/203 [============================>.] - ETA: 6s - loss: 1.6005 - accuracy: 0.2310 \n",
            "Epoch 00001: val_accuracy improved from -inf to 0.24625, saving model to /content/drive/My Drive/best_model.h5\n",
            "203/203 [==============================] - 1712s 8s/step - loss: 1.5999 - accuracy: 0.2314 - val_loss: 1.5952 - val_accuracy: 0.2463\n",
            "Epoch 2/100\n",
            "202/203 [============================>.] - ETA: 0s - loss: 1.5954 - accuracy: 0.2390\n",
            "Epoch 00002: val_accuracy did not improve from 0.24625\n",
            "203/203 [==============================] - 90s 442ms/step - loss: 1.5954 - accuracy: 0.2385 - val_loss: 1.5859 - val_accuracy: 0.2463\n",
            "Epoch 3/100\n",
            "202/203 [============================>.] - ETA: 0s - loss: 1.5846 - accuracy: 0.2496\n",
            "Epoch 00003: val_accuracy did not improve from 0.24625\n",
            "203/203 [==============================] - 90s 442ms/step - loss: 1.5841 - accuracy: 0.2499 - val_loss: 1.5801 - val_accuracy: 0.2350\n",
            "Epoch 4/100\n",
            "202/203 [============================>.] - ETA: 0s - loss: 1.5779 - accuracy: 0.2661\n",
            "Epoch 00004: val_accuracy improved from 0.24625 to 0.27000, saving model to /content/drive/My Drive/best_model.h5\n",
            "203/203 [==============================] - 90s 444ms/step - loss: 1.5786 - accuracy: 0.2657 - val_loss: 1.5788 - val_accuracy: 0.2700\n",
            "Epoch 5/100\n",
            "202/203 [============================>.] - ETA: 0s - loss: 1.5695 - accuracy: 0.2683\n",
            "Epoch 00005: val_accuracy did not improve from 0.27000\n",
            "203/203 [==============================] - 90s 443ms/step - loss: 1.5705 - accuracy: 0.2669 - val_loss: 1.5893 - val_accuracy: 0.2488\n",
            "Epoch 6/100\n",
            "202/203 [============================>.] - ETA: 0s - loss: 1.5713 - accuracy: 0.2717\n",
            "Epoch 00006: val_accuracy did not improve from 0.27000\n",
            "203/203 [==============================] - 90s 443ms/step - loss: 1.5716 - accuracy: 0.2722 - val_loss: 1.5667 - val_accuracy: 0.2700\n",
            "Epoch 7/100\n",
            "202/203 [============================>.] - ETA: 0s - loss: 1.5652 - accuracy: 0.2627\n",
            "Epoch 00007: val_accuracy did not improve from 0.27000\n",
            "203/203 [==============================] - 90s 442ms/step - loss: 1.5654 - accuracy: 0.2626 - val_loss: 1.5736 - val_accuracy: 0.2663\n",
            "Epoch 8/100\n",
            "202/203 [============================>.] - ETA: 0s - loss: 1.5649 - accuracy: 0.2692\n",
            "Epoch 00008: val_accuracy improved from 0.27000 to 0.27125, saving model to /content/drive/My Drive/best_model.h5\n",
            "203/203 [==============================] - 90s 444ms/step - loss: 1.5644 - accuracy: 0.2694 - val_loss: 1.5788 - val_accuracy: 0.2713\n",
            "Epoch 9/100\n",
            "202/203 [============================>.] - ETA: 0s - loss: 1.5609 - accuracy: 0.2767\n",
            "Epoch 00009: val_accuracy improved from 0.27125 to 0.28500, saving model to /content/drive/My Drive/best_model.h5\n",
            "203/203 [==============================] - 90s 445ms/step - loss: 1.5609 - accuracy: 0.2768 - val_loss: 1.5576 - val_accuracy: 0.2850\n",
            "Epoch 10/100\n",
            "202/203 [============================>.] - ETA: 0s - loss: 1.5609 - accuracy: 0.2767\n",
            "Epoch 00010: val_accuracy did not improve from 0.28500\n",
            "203/203 [==============================] - 90s 444ms/step - loss: 1.5604 - accuracy: 0.2778 - val_loss: 1.5537 - val_accuracy: 0.2788\n",
            "Epoch 11/100\n",
            "202/203 [============================>.] - ETA: 0s - loss: 1.5437 - accuracy: 0.2913\n",
            "Epoch 00011: val_accuracy improved from 0.28500 to 0.28750, saving model to /content/drive/My Drive/best_model.h5\n",
            "203/203 [==============================] - 91s 447ms/step - loss: 1.5434 - accuracy: 0.2908 - val_loss: 1.5564 - val_accuracy: 0.2875\n",
            "Epoch 12/100\n",
            "202/203 [============================>.] - ETA: 0s - loss: 1.5351 - accuracy: 0.2972\n",
            "Epoch 00012: val_accuracy did not improve from 0.28750\n",
            "203/203 [==============================] - 90s 445ms/step - loss: 1.5351 - accuracy: 0.2972 - val_loss: 1.5499 - val_accuracy: 0.2800\n",
            "Epoch 13/100\n",
            "202/203 [============================>.] - ETA: 0s - loss: 1.5263 - accuracy: 0.3028\n",
            "Epoch 00013: val_accuracy did not improve from 0.28750\n",
            "203/203 [==============================] - 91s 446ms/step - loss: 1.5259 - accuracy: 0.3031 - val_loss: 1.5760 - val_accuracy: 0.2575\n",
            "Epoch 14/100\n",
            "202/203 [============================>.] - ETA: 0s - loss: 1.5171 - accuracy: 0.3049\n",
            "Epoch 00014: val_accuracy did not improve from 0.28750\n",
            "203/203 [==============================] - 90s 444ms/step - loss: 1.5177 - accuracy: 0.3041 - val_loss: 1.5793 - val_accuracy: 0.2775\n",
            "Epoch 15/100\n",
            "202/203 [============================>.] - ETA: 0s - loss: 1.5254 - accuracy: 0.2987\n",
            "Epoch 00015: val_accuracy improved from 0.28750 to 0.32250, saving model to /content/drive/My Drive/best_model.h5\n",
            "203/203 [==============================] - 91s 448ms/step - loss: 1.5252 - accuracy: 0.2991 - val_loss: 1.5100 - val_accuracy: 0.3225\n",
            "Epoch 16/100\n",
            "202/203 [============================>.] - ETA: 0s - loss: 1.5035 - accuracy: 0.3136\n",
            "Epoch 00016: val_accuracy did not improve from 0.32250\n",
            "203/203 [==============================] - 91s 446ms/step - loss: 1.5026 - accuracy: 0.3149 - val_loss: 1.5184 - val_accuracy: 0.3200\n",
            "Epoch 17/100\n",
            "202/203 [============================>.] - ETA: 0s - loss: 1.4957 - accuracy: 0.3180\n",
            "Epoch 00017: val_accuracy improved from 0.32250 to 0.32750, saving model to /content/drive/My Drive/best_model.h5\n",
            "203/203 [==============================] - 91s 448ms/step - loss: 1.4949 - accuracy: 0.3192 - val_loss: 1.5029 - val_accuracy: 0.3275\n",
            "Epoch 18/100\n",
            "202/203 [============================>.] - ETA: 0s - loss: 1.4794 - accuracy: 0.3289\n",
            "Epoch 00018: val_accuracy did not improve from 0.32750\n",
            "203/203 [==============================] - 90s 444ms/step - loss: 1.4785 - accuracy: 0.3288 - val_loss: 1.5140 - val_accuracy: 0.3237\n",
            "Epoch 19/100\n",
            "202/203 [============================>.] - ETA: 0s - loss: 1.4694 - accuracy: 0.3342\n",
            "Epoch 00019: val_accuracy improved from 0.32750 to 0.33500, saving model to /content/drive/My Drive/best_model.h5\n",
            "203/203 [==============================] - 91s 448ms/step - loss: 1.4701 - accuracy: 0.3334 - val_loss: 1.4956 - val_accuracy: 0.3350\n",
            "Epoch 20/100\n",
            "202/203 [============================>.] - ETA: 0s - loss: 1.4514 - accuracy: 0.3426\n",
            "Epoch 00020: val_accuracy improved from 0.33500 to 0.34250, saving model to /content/drive/My Drive/best_model.h5\n",
            "203/203 [==============================] - 91s 449ms/step - loss: 1.4529 - accuracy: 0.3415 - val_loss: 1.4784 - val_accuracy: 0.3425\n",
            "Epoch 21/100\n",
            "202/203 [============================>.] - ETA: 0s - loss: 1.4424 - accuracy: 0.3488\n",
            "Epoch 00021: val_accuracy improved from 0.34250 to 0.34875, saving model to /content/drive/My Drive/best_model.h5\n",
            "203/203 [==============================] - 91s 447ms/step - loss: 1.4419 - accuracy: 0.3498 - val_loss: 1.4455 - val_accuracy: 0.3487\n",
            "Epoch 22/100\n",
            "202/203 [============================>.] - ETA: 0s - loss: 1.4379 - accuracy: 0.3457\n",
            "Epoch 00022: val_accuracy improved from 0.34875 to 0.35500, saving model to /content/drive/My Drive/best_model.h5\n",
            "203/203 [==============================] - 91s 450ms/step - loss: 1.4373 - accuracy: 0.3464 - val_loss: 1.4359 - val_accuracy: 0.3550\n",
            "Epoch 23/100\n",
            "202/203 [============================>.] - ETA: 0s - loss: 1.4398 - accuracy: 0.3401\n",
            "Epoch 00023: val_accuracy did not improve from 0.35500\n",
            "203/203 [==============================] - 91s 446ms/step - loss: 1.4393 - accuracy: 0.3406 - val_loss: 1.4380 - val_accuracy: 0.3550\n",
            "Epoch 24/100\n",
            "202/203 [============================>.] - ETA: 0s - loss: 1.4247 - accuracy: 0.3637\n",
            "Epoch 00024: val_accuracy improved from 0.35500 to 0.35625, saving model to /content/drive/My Drive/best_model.h5\n",
            "203/203 [==============================] - 91s 448ms/step - loss: 1.4245 - accuracy: 0.3637 - val_loss: 1.4346 - val_accuracy: 0.3562\n",
            "Epoch 25/100\n",
            "202/203 [============================>.] - ETA: 0s - loss: 1.4129 - accuracy: 0.3522\n",
            "Epoch 00025: val_accuracy improved from 0.35625 to 0.36625, saving model to /content/drive/My Drive/best_model.h5\n",
            "203/203 [==============================] - 92s 452ms/step - loss: 1.4136 - accuracy: 0.3520 - val_loss: 1.4263 - val_accuracy: 0.3663\n",
            "Epoch 26/100\n",
            "202/203 [============================>.] - ETA: 0s - loss: 1.4009 - accuracy: 0.3572\n",
            "Epoch 00026: val_accuracy did not improve from 0.36625\n",
            "203/203 [==============================] - 91s 450ms/step - loss: 1.4014 - accuracy: 0.3569 - val_loss: 1.4266 - val_accuracy: 0.3475\n",
            "Epoch 27/100\n",
            "202/203 [============================>.] - ETA: 0s - loss: 1.4000 - accuracy: 0.3649\n",
            "Epoch 00027: val_accuracy did not improve from 0.36625\n",
            "203/203 [==============================] - 91s 450ms/step - loss: 1.3991 - accuracy: 0.3650 - val_loss: 1.4444 - val_accuracy: 0.3375\n",
            "Epoch 28/100\n",
            "202/203 [============================>.] - ETA: 0s - loss: 1.3933 - accuracy: 0.3749\n",
            "Epoch 00028: val_accuracy improved from 0.36625 to 0.36875, saving model to /content/drive/My Drive/best_model.h5\n",
            "203/203 [==============================] - 91s 448ms/step - loss: 1.3931 - accuracy: 0.3752 - val_loss: 1.4164 - val_accuracy: 0.3688\n",
            "Epoch 29/100\n",
            "202/203 [============================>.] - ETA: 0s - loss: 1.3805 - accuracy: 0.3755\n",
            "Epoch 00029: val_accuracy did not improve from 0.36875\n",
            "203/203 [==============================] - 91s 447ms/step - loss: 1.3795 - accuracy: 0.3764 - val_loss: 1.4318 - val_accuracy: 0.3475\n",
            "Epoch 30/100\n",
            "202/203 [============================>.] - ETA: 0s - loss: 1.3914 - accuracy: 0.3805\n",
            "Epoch 00030: val_accuracy did not improve from 0.36875\n",
            "203/203 [==============================] - 91s 448ms/step - loss: 1.3905 - accuracy: 0.3805 - val_loss: 1.4518 - val_accuracy: 0.3338\n",
            "Epoch 31/100\n",
            "202/203 [============================>.] - ETA: 0s - loss: 1.3806 - accuracy: 0.3680\n",
            "Epoch 00031: val_accuracy did not improve from 0.36875\n",
            "203/203 [==============================] - 91s 448ms/step - loss: 1.3808 - accuracy: 0.3681 - val_loss: 1.4301 - val_accuracy: 0.3625\n",
            "Epoch 32/100\n",
            "202/203 [============================>.] - ETA: 0s - loss: 1.3722 - accuracy: 0.3795\n",
            "Epoch 00032: val_accuracy did not improve from 0.36875\n",
            "203/203 [==============================] - 91s 449ms/step - loss: 1.3729 - accuracy: 0.3792 - val_loss: 1.4339 - val_accuracy: 0.3450\n",
            "Epoch 33/100\n",
            "202/203 [============================>.] - ETA: 0s - loss: 1.3633 - accuracy: 0.3889\n",
            "Epoch 00033: val_accuracy did not improve from 0.36875\n",
            "203/203 [==============================] - 91s 449ms/step - loss: 1.3633 - accuracy: 0.3888 - val_loss: 1.4848 - val_accuracy: 0.3575\n",
            "Epoch 34/100\n",
            "202/203 [============================>.] - ETA: 0s - loss: 1.3597 - accuracy: 0.3914\n",
            "Epoch 00034: val_accuracy did not improve from 0.36875\n",
            "203/203 [==============================] - 91s 447ms/step - loss: 1.3605 - accuracy: 0.3916 - val_loss: 1.4573 - val_accuracy: 0.3500\n",
            "Epoch 35/100\n",
            "202/203 [============================>.] - ETA: 0s - loss: 1.3632 - accuracy: 0.3749\n",
            "Epoch 00035: val_accuracy did not improve from 0.36875\n",
            "203/203 [==============================] - 90s 444ms/step - loss: 1.3631 - accuracy: 0.3746 - val_loss: 1.4659 - val_accuracy: 0.3313\n",
            "Epoch 36/100\n",
            "202/203 [============================>.] - ETA: 0s - loss: 1.3493 - accuracy: 0.3982\n",
            "Epoch 00036: val_accuracy did not improve from 0.36875\n",
            "203/203 [==============================] - 91s 446ms/step - loss: 1.3484 - accuracy: 0.3990 - val_loss: 1.5023 - val_accuracy: 0.3338\n",
            "Epoch 37/100\n",
            "202/203 [============================>.] - ETA: 0s - loss: 1.3497 - accuracy: 0.3970\n",
            "Epoch 00037: val_accuracy did not improve from 0.36875\n",
            "203/203 [==============================] - 90s 445ms/step - loss: 1.3494 - accuracy: 0.3965 - val_loss: 1.4502 - val_accuracy: 0.3650\n",
            "Epoch 38/100\n",
            "202/203 [============================>.] - ETA: 0s - loss: 1.3393 - accuracy: 0.3920\n",
            "Epoch 00038: val_accuracy did not improve from 0.36875\n",
            "203/203 [==============================] - 90s 444ms/step - loss: 1.3394 - accuracy: 0.3913 - val_loss: 1.4335 - val_accuracy: 0.3438\n",
            "Epoch 39/100\n",
            "202/203 [============================>.] - ETA: 0s - loss: 1.3438 - accuracy: 0.4057\n",
            "Epoch 00039: val_accuracy did not improve from 0.36875\n",
            "203/203 [==============================] - 90s 444ms/step - loss: 1.3436 - accuracy: 0.4061 - val_loss: 1.5238 - val_accuracy: 0.3250\n",
            "Epoch 40/100\n",
            "202/203 [============================>.] - ETA: 0s - loss: 1.3450 - accuracy: 0.3889\n",
            "Epoch 00040: val_accuracy improved from 0.36875 to 0.37000, saving model to /content/drive/My Drive/best_model.h5\n",
            "203/203 [==============================] - 91s 450ms/step - loss: 1.3466 - accuracy: 0.3885 - val_loss: 1.4371 - val_accuracy: 0.3700\n",
            "Epoch 41/100\n",
            "202/203 [============================>.] - ETA: 0s - loss: 1.3386 - accuracy: 0.3892\n",
            "Epoch 00041: val_accuracy did not improve from 0.37000\n",
            "203/203 [==============================] - 90s 445ms/step - loss: 1.3394 - accuracy: 0.3891 - val_loss: 1.4046 - val_accuracy: 0.3600\n",
            "Epoch 42/100\n",
            "202/203 [============================>.] - ETA: 0s - loss: 1.3334 - accuracy: 0.3942\n",
            "Epoch 00042: val_accuracy did not improve from 0.37000\n",
            "203/203 [==============================] - 90s 446ms/step - loss: 1.3330 - accuracy: 0.3944 - val_loss: 1.4459 - val_accuracy: 0.3613\n",
            "Epoch 43/100\n",
            "202/203 [============================>.] - ETA: 0s - loss: 1.3346 - accuracy: 0.4025\n",
            "Epoch 00043: val_accuracy improved from 0.37000 to 0.38000, saving model to /content/drive/My Drive/best_model.h5\n",
            "203/203 [==============================] - 91s 447ms/step - loss: 1.3342 - accuracy: 0.4024 - val_loss: 1.4022 - val_accuracy: 0.3800\n",
            "Epoch 44/100\n",
            "202/203 [============================>.] - ETA: 0s - loss: 1.3285 - accuracy: 0.4013\n",
            "Epoch 00044: val_accuracy did not improve from 0.38000\n",
            "203/203 [==============================] - 91s 446ms/step - loss: 1.3278 - accuracy: 0.4015 - val_loss: 1.4328 - val_accuracy: 0.3738\n",
            "Epoch 45/100\n",
            "202/203 [============================>.] - ETA: 0s - loss: 1.3251 - accuracy: 0.3988\n",
            "Epoch 00045: val_accuracy did not improve from 0.38000\n",
            "203/203 [==============================] - 90s 445ms/step - loss: 1.3258 - accuracy: 0.3990 - val_loss: 1.4593 - val_accuracy: 0.3713\n",
            "Epoch 46/100\n",
            "202/203 [============================>.] - ETA: 0s - loss: 1.3157 - accuracy: 0.4072\n",
            "Epoch 00046: val_accuracy did not improve from 0.38000\n",
            "203/203 [==============================] - 90s 445ms/step - loss: 1.3153 - accuracy: 0.4071 - val_loss: 1.4101 - val_accuracy: 0.3800\n",
            "Epoch 47/100\n",
            "202/203 [============================>.] - ETA: 0s - loss: 1.3102 - accuracy: 0.4032\n",
            "Epoch 00047: val_accuracy did not improve from 0.38000\n",
            "203/203 [==============================] - 91s 447ms/step - loss: 1.3103 - accuracy: 0.4030 - val_loss: 1.4276 - val_accuracy: 0.3738\n",
            "Epoch 48/100\n",
            "202/203 [============================>.] - ETA: 0s - loss: 1.3237 - accuracy: 0.4060\n",
            "Epoch 00048: val_accuracy improved from 0.38000 to 0.38250, saving model to /content/drive/My Drive/best_model.h5\n",
            "203/203 [==============================] - 91s 450ms/step - loss: 1.3250 - accuracy: 0.4052 - val_loss: 1.4149 - val_accuracy: 0.3825\n",
            "Epoch 49/100\n",
            "202/203 [============================>.] - ETA: 0s - loss: 1.3197 - accuracy: 0.4038\n",
            "Epoch 00049: val_accuracy did not improve from 0.38250\n",
            "203/203 [==============================] - 91s 448ms/step - loss: 1.3195 - accuracy: 0.4040 - val_loss: 1.4119 - val_accuracy: 0.3825\n",
            "Epoch 50/100\n",
            "202/203 [============================>.] - ETA: 0s - loss: 1.3132 - accuracy: 0.4066\n",
            "Epoch 00050: val_accuracy improved from 0.38250 to 0.39125, saving model to /content/drive/My Drive/best_model.h5\n",
            "203/203 [==============================] - 91s 450ms/step - loss: 1.3131 - accuracy: 0.4067 - val_loss: 1.3928 - val_accuracy: 0.3913\n",
            "Epoch 51/100\n",
            "202/203 [============================>.] - ETA: 0s - loss: 1.3104 - accuracy: 0.4078\n",
            "Epoch 00051: val_accuracy did not improve from 0.39125\n",
            "203/203 [==============================] - 92s 452ms/step - loss: 1.3100 - accuracy: 0.4077 - val_loss: 1.4183 - val_accuracy: 0.3862\n",
            "Epoch 52/100\n",
            "202/203 [============================>.] - ETA: 0s - loss: 1.3011 - accuracy: 0.4249\n",
            "Epoch 00052: val_accuracy did not improve from 0.39125\n",
            "203/203 [==============================] - 91s 449ms/step - loss: 1.3012 - accuracy: 0.4247 - val_loss: 1.5269 - val_accuracy: 0.3512\n",
            "Epoch 53/100\n",
            "202/203 [============================>.] - ETA: 0s - loss: 1.2955 - accuracy: 0.4097\n",
            "Epoch 00053: val_accuracy did not improve from 0.39125\n",
            "203/203 [==============================] - 91s 449ms/step - loss: 1.2937 - accuracy: 0.4111 - val_loss: 1.4617 - val_accuracy: 0.3800\n",
            "Epoch 54/100\n",
            "202/203 [============================>.] - ETA: 0s - loss: 1.2972 - accuracy: 0.4081\n",
            "Epoch 00054: val_accuracy did not improve from 0.39125\n",
            "203/203 [==============================] - 92s 452ms/step - loss: 1.2974 - accuracy: 0.4086 - val_loss: 1.4753 - val_accuracy: 0.3713\n",
            "Epoch 55/100\n",
            "202/203 [============================>.] - ETA: 0s - loss: 1.2932 - accuracy: 0.4259\n",
            "Epoch 00055: val_accuracy did not improve from 0.39125\n",
            "203/203 [==============================] - 92s 451ms/step - loss: 1.2938 - accuracy: 0.4256 - val_loss: 1.4110 - val_accuracy: 0.3700\n",
            "Epoch 56/100\n",
            "202/203 [============================>.] - ETA: 0s - loss: 1.2923 - accuracy: 0.4184\n",
            "Epoch 00056: val_accuracy did not improve from 0.39125\n",
            "203/203 [==============================] - 91s 450ms/step - loss: 1.2935 - accuracy: 0.4182 - val_loss: 1.4282 - val_accuracy: 0.3525\n",
            "Epoch 57/100\n",
            "202/203 [============================>.] - ETA: 0s - loss: 1.2927 - accuracy: 0.4252\n",
            "Epoch 00057: val_accuracy did not improve from 0.39125\n",
            "203/203 [==============================] - 92s 453ms/step - loss: 1.2928 - accuracy: 0.4247 - val_loss: 1.5063 - val_accuracy: 0.3738\n",
            "Epoch 58/100\n",
            "202/203 [============================>.] - ETA: 0s - loss: 1.2973 - accuracy: 0.4069\n",
            "Epoch 00058: val_accuracy did not improve from 0.39125\n",
            "203/203 [==============================] - 92s 452ms/step - loss: 1.2975 - accuracy: 0.4064 - val_loss: 1.4445 - val_accuracy: 0.3837\n",
            "Epoch 59/100\n",
            "202/203 [============================>.] - ETA: 0s - loss: 1.2915 - accuracy: 0.4231\n",
            "Epoch 00059: val_accuracy did not improve from 0.39125\n",
            "203/203 [==============================] - 92s 455ms/step - loss: 1.2918 - accuracy: 0.4225 - val_loss: 1.4404 - val_accuracy: 0.3450\n",
            "Epoch 60/100\n",
            "202/203 [============================>.] - ETA: 0s - loss: 1.2765 - accuracy: 0.4265\n",
            "Epoch 00060: val_accuracy did not improve from 0.39125\n",
            "203/203 [==============================] - 92s 453ms/step - loss: 1.2765 - accuracy: 0.4262 - val_loss: 1.4448 - val_accuracy: 0.3587\n",
            "Epoch 61/100\n",
            "202/203 [============================>.] - ETA: 0s - loss: 1.2871 - accuracy: 0.4168\n",
            "Epoch 00061: val_accuracy did not improve from 0.39125\n",
            "203/203 [==============================] - 93s 457ms/step - loss: 1.2878 - accuracy: 0.4157 - val_loss: 1.4441 - val_accuracy: 0.3713\n",
            "Epoch 62/100\n",
            "202/203 [============================>.] - ETA: 0s - loss: 1.2775 - accuracy: 0.4296\n",
            "Epoch 00062: val_accuracy did not improve from 0.39125\n",
            "203/203 [==============================] - 93s 456ms/step - loss: 1.2772 - accuracy: 0.4299 - val_loss: 1.4187 - val_accuracy: 0.3700\n",
            "Epoch 63/100\n",
            "202/203 [============================>.] - ETA: 0s - loss: 1.2894 - accuracy: 0.4224\n",
            "Epoch 00063: val_accuracy did not improve from 0.39125\n",
            "203/203 [==============================] - 92s 455ms/step - loss: 1.2894 - accuracy: 0.4228 - val_loss: 1.4407 - val_accuracy: 0.3738\n",
            "Epoch 64/100\n",
            "202/203 [============================>.] - ETA: 0s - loss: 1.2904 - accuracy: 0.4168\n",
            "Epoch 00064: val_accuracy improved from 0.39125 to 0.39500, saving model to /content/drive/My Drive/best_model.h5\n",
            "203/203 [==============================] - 93s 460ms/step - loss: 1.2912 - accuracy: 0.4163 - val_loss: 1.3986 - val_accuracy: 0.3950\n",
            "Epoch 65/100\n",
            "202/203 [============================>.] - ETA: 0s - loss: 1.2711 - accuracy: 0.4262\n",
            "Epoch 00065: val_accuracy did not improve from 0.39500\n",
            "203/203 [==============================] - 93s 457ms/step - loss: 1.2707 - accuracy: 0.4272 - val_loss: 1.4567 - val_accuracy: 0.3787\n",
            "Epoch 66/100\n",
            "202/203 [============================>.] - ETA: 0s - loss: 1.2803 - accuracy: 0.4290\n",
            "Epoch 00066: val_accuracy did not improve from 0.39500\n",
            "203/203 [==============================] - 94s 462ms/step - loss: 1.2798 - accuracy: 0.4290 - val_loss: 1.4132 - val_accuracy: 0.3938\n",
            "Epoch 67/100\n",
            "202/203 [============================>.] - ETA: 0s - loss: 1.2812 - accuracy: 0.4193\n",
            "Epoch 00067: val_accuracy did not improve from 0.39500\n",
            "203/203 [==============================] - 93s 460ms/step - loss: 1.2806 - accuracy: 0.4194 - val_loss: 1.5667 - val_accuracy: 0.3438\n",
            "Epoch 68/100\n",
            "202/203 [============================>.] - ETA: 0s - loss: 1.2657 - accuracy: 0.4402\n",
            "Epoch 00068: val_accuracy did not improve from 0.39500\n",
            "203/203 [==============================] - 93s 460ms/step - loss: 1.2663 - accuracy: 0.4401 - val_loss: 1.4256 - val_accuracy: 0.3762\n",
            "Epoch 69/100\n",
            "202/203 [============================>.] - ETA: 0s - loss: 1.2658 - accuracy: 0.4361\n",
            "Epoch 00069: val_accuracy did not improve from 0.39500\n",
            "203/203 [==============================] - 94s 461ms/step - loss: 1.2652 - accuracy: 0.4361 - val_loss: 1.5055 - val_accuracy: 0.3462\n",
            "Epoch 70/100\n",
            "202/203 [============================>.] - ETA: 0s - loss: 1.2670 - accuracy: 0.4336\n",
            "Epoch 00070: val_accuracy did not improve from 0.39500\n",
            "203/203 [==============================] - 94s 461ms/step - loss: 1.2675 - accuracy: 0.4337 - val_loss: 1.4254 - val_accuracy: 0.3938\n",
            "Epoch 71/100\n",
            "202/203 [============================>.] - ETA: 0s - loss: 1.2545 - accuracy: 0.4380\n",
            "Epoch 00071: val_accuracy did not improve from 0.39500\n",
            "203/203 [==============================] - 94s 463ms/step - loss: 1.2534 - accuracy: 0.4386 - val_loss: 1.5256 - val_accuracy: 0.3663\n",
            "Epoch 72/100\n",
            "202/203 [============================>.] - ETA: 0s - loss: 1.2772 - accuracy: 0.4293\n",
            "Epoch 00072: val_accuracy did not improve from 0.39500\n",
            "203/203 [==============================] - 94s 464ms/step - loss: 1.2774 - accuracy: 0.4299 - val_loss: 1.3989 - val_accuracy: 0.3787\n",
            "Epoch 73/100\n",
            "202/203 [============================>.] - ETA: 0s - loss: 1.2521 - accuracy: 0.4389\n",
            "Epoch 00073: val_accuracy did not improve from 0.39500\n",
            "203/203 [==============================] - 95s 466ms/step - loss: 1.2524 - accuracy: 0.4383 - val_loss: 1.4682 - val_accuracy: 0.3750\n",
            "Epoch 74/100\n",
            "202/203 [============================>.] - ETA: 0s - loss: 1.2549 - accuracy: 0.4405\n",
            "Epoch 00074: val_accuracy did not improve from 0.39500\n",
            "203/203 [==============================] - 94s 464ms/step - loss: 1.2537 - accuracy: 0.4414 - val_loss: 1.4452 - val_accuracy: 0.3688\n",
            "Epoch 75/100\n",
            "202/203 [============================>.] - ETA: 0s - loss: 1.2621 - accuracy: 0.4246\n",
            "Epoch 00075: val_accuracy did not improve from 0.39500\n",
            "203/203 [==============================] - 94s 462ms/step - loss: 1.2615 - accuracy: 0.4253 - val_loss: 1.4476 - val_accuracy: 0.3713\n",
            "Epoch 76/100\n",
            "202/203 [============================>.] - ETA: 0s - loss: 1.2468 - accuracy: 0.4458\n",
            "Epoch 00076: val_accuracy did not improve from 0.39500\n",
            "203/203 [==============================] - 94s 463ms/step - loss: 1.2470 - accuracy: 0.4457 - val_loss: 1.4947 - val_accuracy: 0.3675\n",
            "Epoch 77/100\n",
            "202/203 [============================>.] - ETA: 0s - loss: 1.2482 - accuracy: 0.4371\n",
            "Epoch 00077: val_accuracy did not improve from 0.39500\n",
            "203/203 [==============================] - 94s 464ms/step - loss: 1.2490 - accuracy: 0.4358 - val_loss: 1.4142 - val_accuracy: 0.3787\n",
            "Epoch 78/100\n",
            "202/203 [============================>.] - ETA: 0s - loss: 1.2494 - accuracy: 0.4367\n",
            "Epoch 00078: val_accuracy did not improve from 0.39500\n",
            "203/203 [==============================] - 93s 460ms/step - loss: 1.2485 - accuracy: 0.4377 - val_loss: 1.4283 - val_accuracy: 0.3812\n",
            "Epoch 79/100\n",
            "202/203 [============================>.] - ETA: 0s - loss: 1.2462 - accuracy: 0.4445\n",
            "Epoch 00079: val_accuracy did not improve from 0.39500\n",
            "203/203 [==============================] - 93s 460ms/step - loss: 1.2465 - accuracy: 0.4442 - val_loss: 1.4998 - val_accuracy: 0.3475\n",
            "Epoch 80/100\n",
            "202/203 [============================>.] - ETA: 0s - loss: 1.2488 - accuracy: 0.4361\n",
            "Epoch 00080: val_accuracy did not improve from 0.39500\n",
            "203/203 [==============================] - 93s 459ms/step - loss: 1.2489 - accuracy: 0.4361 - val_loss: 1.4376 - val_accuracy: 0.3750\n",
            "Epoch 81/100\n",
            "202/203 [============================>.] - ETA: 0s - loss: 1.2449 - accuracy: 0.4399\n",
            "Epoch 00081: val_accuracy did not improve from 0.39500\n",
            "203/203 [==============================] - 93s 459ms/step - loss: 1.2457 - accuracy: 0.4392 - val_loss: 1.4534 - val_accuracy: 0.3575\n",
            "Epoch 82/100\n",
            "202/203 [============================>.] - ETA: 0s - loss: 1.2278 - accuracy: 0.4482\n",
            "Epoch 00082: val_accuracy did not improve from 0.39500\n",
            "203/203 [==============================] - 93s 460ms/step - loss: 1.2295 - accuracy: 0.4482 - val_loss: 1.4139 - val_accuracy: 0.3800\n",
            "Epoch 83/100\n",
            "202/203 [============================>.] - ETA: 0s - loss: 1.2369 - accuracy: 0.4551\n",
            "Epoch 00083: val_accuracy did not improve from 0.39500\n",
            "203/203 [==============================] - 93s 457ms/step - loss: 1.2367 - accuracy: 0.4556 - val_loss: 1.4176 - val_accuracy: 0.3775\n",
            "Epoch 84/100\n",
            "202/203 [============================>.] - ETA: 0s - loss: 1.2320 - accuracy: 0.4507\n",
            "Epoch 00084: val_accuracy did not improve from 0.39500\n",
            "203/203 [==============================] - 91s 450ms/step - loss: 1.2323 - accuracy: 0.4507 - val_loss: 1.4322 - val_accuracy: 0.3650\n",
            "Epoch 85/100\n",
            "202/203 [============================>.] - ETA: 0s - loss: 1.2279 - accuracy: 0.4476\n",
            "Epoch 00085: val_accuracy did not improve from 0.39500\n",
            "203/203 [==============================] - 90s 446ms/step - loss: 1.2283 - accuracy: 0.4473 - val_loss: 1.4674 - val_accuracy: 0.3925\n",
            "Epoch 86/100\n",
            "202/203 [============================>.] - ETA: 0s - loss: 1.2326 - accuracy: 0.4371\n",
            "Epoch 00086: val_accuracy did not improve from 0.39500\n",
            "203/203 [==============================] - 91s 449ms/step - loss: 1.2339 - accuracy: 0.4364 - val_loss: 1.5844 - val_accuracy: 0.3650\n",
            "Epoch 87/100\n",
            "202/203 [============================>.] - ETA: 0s - loss: 1.2310 - accuracy: 0.4517\n",
            "Epoch 00087: val_accuracy did not improve from 0.39500\n",
            "203/203 [==============================] - 91s 450ms/step - loss: 1.2310 - accuracy: 0.4519 - val_loss: 1.4630 - val_accuracy: 0.3700\n",
            "Epoch 88/100\n",
            "202/203 [============================>.] - ETA: 0s - loss: 1.2229 - accuracy: 0.4566\n",
            "Epoch 00088: val_accuracy did not improve from 0.39500\n",
            "203/203 [==============================] - 91s 448ms/step - loss: 1.2224 - accuracy: 0.4572 - val_loss: 1.4493 - val_accuracy: 0.3762\n",
            "Epoch 89/100\n",
            "202/203 [============================>.] - ETA: 0s - loss: 1.2144 - accuracy: 0.4604\n",
            "Epoch 00089: val_accuracy did not improve from 0.39500\n",
            "203/203 [==============================] - 91s 450ms/step - loss: 1.2145 - accuracy: 0.4606 - val_loss: 1.4357 - val_accuracy: 0.3913\n",
            "Epoch 90/100\n",
            "202/203 [============================>.] - ETA: 0s - loss: 1.2120 - accuracy: 0.4644\n",
            "Epoch 00090: val_accuracy did not improve from 0.39500\n",
            "203/203 [==============================] - 92s 451ms/step - loss: 1.2136 - accuracy: 0.4640 - val_loss: 1.4783 - val_accuracy: 0.3462\n",
            "Epoch 91/100\n",
            "202/203 [============================>.] - ETA: 0s - loss: 1.2206 - accuracy: 0.4573\n",
            "Epoch 00091: val_accuracy did not improve from 0.39500\n",
            "203/203 [==============================] - 92s 454ms/step - loss: 1.2214 - accuracy: 0.4572 - val_loss: 1.4356 - val_accuracy: 0.3625\n",
            "Epoch 92/100\n",
            "202/203 [============================>.] - ETA: 0s - loss: 1.1938 - accuracy: 0.4591\n",
            "Epoch 00092: val_accuracy improved from 0.39500 to 0.40375, saving model to /content/drive/My Drive/best_model.h5\n",
            "203/203 [==============================] - 93s 459ms/step - loss: 1.1944 - accuracy: 0.4587 - val_loss: 1.4196 - val_accuracy: 0.4038\n",
            "Epoch 93/100\n",
            "202/203 [============================>.] - ETA: 0s - loss: 1.2032 - accuracy: 0.4585\n",
            "Epoch 00093: val_accuracy did not improve from 0.40375\n",
            "203/203 [==============================] - 92s 453ms/step - loss: 1.2027 - accuracy: 0.4584 - val_loss: 1.4583 - val_accuracy: 0.3688\n",
            "Epoch 94/100\n",
            "202/203 [============================>.] - ETA: 0s - loss: 1.1992 - accuracy: 0.4719\n",
            "Epoch 00094: val_accuracy did not improve from 0.40375\n",
            "203/203 [==============================] - 92s 455ms/step - loss: 1.1998 - accuracy: 0.4711 - val_loss: 1.4208 - val_accuracy: 0.3975\n",
            "Epoch 95/100\n",
            "202/203 [============================>.] - ETA: 0s - loss: 1.2191 - accuracy: 0.4660\n",
            "Epoch 00095: val_accuracy did not improve from 0.40375\n",
            "203/203 [==============================] - 92s 453ms/step - loss: 1.2207 - accuracy: 0.4643 - val_loss: 1.4014 - val_accuracy: 0.3787\n",
            "Epoch 96/100\n",
            "202/203 [============================>.] - ETA: 0s - loss: 1.2066 - accuracy: 0.4740\n",
            "Epoch 00096: val_accuracy did not improve from 0.40375\n",
            "203/203 [==============================] - 92s 451ms/step - loss: 1.2062 - accuracy: 0.4742 - val_loss: 1.4447 - val_accuracy: 0.3775\n",
            "Epoch 97/100\n",
            "202/203 [============================>.] - ETA: 0s - loss: 1.1945 - accuracy: 0.4725\n",
            "Epoch 00097: val_accuracy did not improve from 0.40375\n",
            "203/203 [==============================] - 91s 451ms/step - loss: 1.1939 - accuracy: 0.4729 - val_loss: 1.4730 - val_accuracy: 0.3887\n",
            "Epoch 98/100\n",
            "202/203 [============================>.] - ETA: 0s - loss: 1.1924 - accuracy: 0.4647\n",
            "Epoch 00098: val_accuracy did not improve from 0.40375\n",
            "203/203 [==============================] - 93s 456ms/step - loss: 1.1919 - accuracy: 0.4652 - val_loss: 1.4803 - val_accuracy: 0.3862\n",
            "Epoch 99/100\n",
            "202/203 [============================>.] - ETA: 0s - loss: 1.2056 - accuracy: 0.4579\n",
            "Epoch 00099: val_accuracy did not improve from 0.40375\n",
            "203/203 [==============================] - 92s 453ms/step - loss: 1.2071 - accuracy: 0.4575 - val_loss: 1.4148 - val_accuracy: 0.3850\n",
            "Epoch 100/100\n",
            "202/203 [============================>.] - ETA: 0s - loss: 1.2158 - accuracy: 0.4619\n",
            "Epoch 00100: val_accuracy did not improve from 0.40375\n",
            "203/203 [==============================] - 92s 452ms/step - loss: 1.2176 - accuracy: 0.4615 - val_loss: 1.4035 - val_accuracy: 0.3837\n",
            "Epoch 00100: early stopping\n"
          ],
          "name": "stdout"
        }
      ]
    },
    {
      "cell_type": "code",
      "metadata": {
        "id": "UPOrZ3Xy_E45",
        "colab_type": "code",
        "outputId": "07d148c9-cb65-4cfd-9494-4f28c0e1238a",
        "colab": {
          "base_uri": "https://localhost:8080/",
          "height": 35
        }
      },
      "source": [
        "history.history.keys()"
      ],
      "execution_count": 0,
      "outputs": [
        {
          "output_type": "execute_result",
          "data": {
            "text/plain": [
              "dict_keys(['loss', 'accuracy', 'val_loss', 'val_accuracy'])"
            ]
          },
          "metadata": {
            "tags": []
          },
          "execution_count": 10
        }
      ]
    },
    {
      "cell_type": "code",
      "metadata": {
        "id": "ik_-1JC2-jYQ",
        "colab_type": "code",
        "outputId": "6248c39a-3040-4311-fce4-4eeb600a2d32",
        "colab": {
          "base_uri": "https://localhost:8080/",
          "height": 573
        }
      },
      "source": [
        "# Plot training & validation loss accuracy\n",
        "plt.plot(history.history['accuracy'])\n",
        "plt.plot(history.history['val_accuracy'])\n",
        "plt.title('Model accuracy')\n",
        "plt.ylabel('Accuracy')\n",
        "plt.xlabel('Epoch')\n",
        "plt.legend(['Train', 'Test'], loc='upper left')\n",
        "plt.show()\n",
        "\n",
        "# Plot training & validation loss values\n",
        "plt.plot(history.history['loss'])\n",
        "plt.plot(history.history['val_loss'])\n",
        "plt.title('Model loss')\n",
        "plt.ylabel('Loss')\n",
        "plt.xlabel('Epoch')\n",
        "plt.legend(['Train', 'Test'], loc='upper left')\n",
        "plt.show()"
      ],
      "execution_count": 0,
      "outputs": [
        {
          "output_type": "display_data",
          "data": {
            "image/png": "[encoded data removed]",
            "text/plain": [
              "<Figure size 432x288 with 1 Axes>"
            ]
          },
          "metadata": {
            "tags": []
          }
        },
        {
          "output_type": "display_data",
          "data": {
            "image/png": "[encoded data removed]",
            "text/plain": [
              "<Figure size 432x288 with 1 Axes>"
            ]
          },
          "metadata": {
            "tags": []
          }
        }
      ]
    },
    {
      "cell_type": "markdown",
      "metadata": {
        "id": "21-oSD690oRD",
        "colab_type": "text"
      },
      "source": [
        "# TESTING"
      ]
    },
    {
      "cell_type": "code",
      "metadata": {
        "id": "7zr_g2CqACCw",
        "colab_type": "code",
        "outputId": "456cadff-0b12-4d93-a642-1d36a03a573c",
        "colab": {
          "base_uri": "https://localhost:8080/",
          "height": 35
        }
      },
      "source": [
        "#Defining generator for the test data\n",
        "test_datagen = ImageDataGenerator(rescale=1./255)\n",
        "test_dir = '/content/drive/My Drive/data/validation'\n",
        "test_generator = test_datagen.flow_from_directory(\n",
        "        test_dir,\n",
        "        target_size=(250, 250),\n",
        "        color_mode=\"rgb\",\n",
        "        shuffle = False,\n",
        "        class_mode='categorical',\n",
        "        batch_size=1)"
      ],
      "execution_count": 0,
      "outputs": [
        {
          "output_type": "stream",
          "text": [
            "Found 558 images belonging to 5 classes.\n"
          ],
          "name": "stdout"
        }
      ]
    },
    {
      "cell_type": "code",
      "metadata": {
        "id": "Yt0jTgp9BPjs",
        "colab_type": "code",
        "colab": {}
      },
      "source": [
        "filenames = test_generator.filenames\n",
        "nb_samples = len(filenames)"
      ],
      "execution_count": 0,
      "outputs": []
    },
    {
      "cell_type": "code",
      "metadata": {
        "id": "PPQ1-_bqBOhp",
        "colab_type": "code",
        "outputId": "701e6784-5ffb-4429-92e2-cebcc83f34bf",
        "colab": {
          "base_uri": "https://localhost:8080/",
          "height": 89
        }
      },
      "source": [
        "predict = model.predict_generator(test_generator,steps = nb_samples)"
      ],
      "execution_count": 0,
      "outputs": [
        {
          "output_type": "stream",
          "text": [
            "WARNING:tensorflow:From <ipython-input-17-a87d8f435adc>:1: Model.predict_generator (from tensorflow.python.keras.engine.training) is deprecated and will be removed in a future version.\n",
            "Instructions for updating:\n",
            "Please use Model.predict, which supports generators.\n"
          ],
          "name": "stdout"
        }
      ]
    },
    {
      "cell_type": "code",
      "metadata": {
        "id": "Rq3pyF-ZJSDW",
        "colab_type": "code",
        "colab": {}
      },
      "source": [
        "predicted_classes = predict.argmax(axis=-1)"
      ],
      "execution_count": 0,
      "outputs": []
    },
    {
      "cell_type": "code",
      "metadata": {
        "id": "6PjXWgNrJv-j",
        "colab_type": "code",
        "outputId": "b4b04ac5-b430-4851-ef52-d88902af8f82",
        "colab": {
          "base_uri": "https://localhost:8080/",
          "height": 104
        }
      },
      "source": [
        "confusion_matrix(test_generator.classes, predicted_classes)"
      ],
      "execution_count": 0,
      "outputs": [
        {
          "output_type": "execute_result",
          "data": {
            "text/plain": [
              "array([[74, 11,  5,  5,  7],\n",
              "       [55, 16, 14, 14, 20],\n",
              "       [35, 12, 23, 30, 50],\n",
              "       [10,  1,  3, 16, 47],\n",
              "       [ 4,  1,  3, 21, 81]])"
            ]
          },
          "metadata": {
            "tags": []
          },
          "execution_count": 31
        }
      ]
    },
    {
      "cell_type": "code",
      "metadata": {
        "id": "Z9atACdgKic8",
        "colab_type": "code",
        "outputId": "59b3fbec-c92f-42b2-8957-6b1a806583b8",
        "colab": {
          "base_uri": "https://localhost:8080/",
          "height": 225
        }
      },
      "source": [
        "print(classification_report(test_generator.classes, predicted_classes))"
      ],
      "execution_count": 0,
      "outputs": [
        {
          "output_type": "stream",
          "text": [
            "              precision    recall  f1-score   support\n",
            "\n",
            "           0       0.42      0.73      0.53       102\n",
            "           1       0.39      0.13      0.20       119\n",
            "           2       0.48      0.15      0.23       150\n",
            "           3       0.19      0.21      0.20        77\n",
            "           4       0.40      0.74      0.51       110\n",
            "\n",
            "    accuracy                           0.38       558\n",
            "   macro avg       0.37      0.39      0.33       558\n",
            "weighted avg       0.39      0.38      0.33       558\n",
            "\n"
          ],
          "name": "stdout"
        }
      ]
    }
  ]
}