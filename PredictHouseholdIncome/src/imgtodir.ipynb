{
  "nbformat": 4,
  "nbformat_minor": 0,
  "metadata": {
    "colab": {
      "name": "imgtodir.ipynb",
      "provenance": [],
      "collapsed_sections": [],
      "machine_shape": "hm"
    },
    "kernelspec": {
      "name": "python3",
      "display_name": "Python 3"
    },
    "accelerator": "GPU"
  },
  "cells": [
    {
      "cell_type": "markdown",
      "metadata": {
        "id": "gqIdBVl-HG96",
        "colab_type": "text"
      },
      "source": [
        "Steps : \n",
        "1. Split the data into training and validation\n",
        "2. Make directory structure : <br>\n",
        "   data <br>\n",
        "       ---train\n",
        "     -----------0 <br>\n",
        "     -----------1 <br>\n",
        "     -----------2 <br>\n",
        "     -----------3 <br>\n",
        "     -----------4 <br> \n",
        "       ---validation\n",
        "     -----------0 <br>\n",
        "     -----------1 <br>\n",
        "     -----------2 <br>\n",
        "     -----------3 <br>\n",
        "     -----------4 <br>\n",
        "3. Use shutil to copy the images to the bove sub directories respectively."
      ]
    },
    {
      "cell_type": "code",
      "metadata": {
        "id": "Jk_22PNDbIqm",
        "colab_type": "code",
        "colab": {}
      },
      "source": [
        "%tensorflow_version 1.x"
      ],
      "execution_count": 0,
      "outputs": []
    },
    {
      "cell_type": "code",
      "metadata": {
        "id": "XfM0E99ZauV3",
        "colab_type": "code",
        "outputId": "224c2af7-4c85-49a2-b057-2acdb451e199",
        "colab": {
          "base_uri": "https://localhost:8080/",
          "height": 35
        }
      },
      "source": [
        "import tensorflow as tf\n",
        "\n",
        "import pandas as pd\n",
        "import numpy as np\n",
        "import os\n",
        "import cv2\n",
        "import shutil\n",
        "import warnings\n",
        "warnings.filterwarnings(\"ignore\")\n",
        "from sklearn.model_selection import train_test_split"
      ],
      "execution_count": 0,
      "outputs": [
        {
          "output_type": "stream",
          "text": [
            "Using TensorFlow backend.\n"
          ],
          "name": "stderr"
        }
      ]
    },
    {
      "cell_type": "code",
      "metadata": {
        "id": "_qPV54ZXa8K-",
        "colab_type": "code",
        "colab": {}
      },
      "source": [
        "df = pd.read_excel('/content/drive/My Drive/TechnoPulse/Trainingset.xlsx')"
      ],
      "execution_count": 0,
      "outputs": []
    },
    {
      "cell_type": "code",
      "metadata": {
        "id": "l0RoKElNbEKt",
        "colab_type": "code",
        "outputId": "fde13045-e5bf-4678-f91f-13ef161fa4ed",
        "colab": {
          "base_uri": "https://localhost:8080/",
          "height": 202
        }
      },
      "source": [
        "df.head()"
      ],
      "execution_count": 0,
      "outputs": [
        {
          "output_type": "execute_result",
          "data": {
            "text/html": [
              "<div>\n",
              "<style scoped>\n",
              "    .dataframe tbody tr th:only-of-type {\n",
              "        vertical-align: middle;\n",
              "    }\n",
              "\n",
              "    .dataframe tbody tr th {\n",
              "        vertical-align: top;\n",
              "    }\n",
              "\n",
              "    .dataframe thead th {\n",
              "        text-align: right;\n",
              "    }\n",
              "</style>\n",
              "<table border=\"1\" class=\"dataframe\">\n",
              "  <thead>\n",
              "    <tr style=\"text-align: right;\">\n",
              "      <th></th>\n",
              "      <th>file</th>\n",
              "      <th>label</th>\n",
              "    </tr>\n",
              "  </thead>\n",
              "  <tbody>\n",
              "    <tr>\n",
              "      <th>0</th>\n",
              "      <td>1</td>\n",
              "      <td>0</td>\n",
              "    </tr>\n",
              "    <tr>\n",
              "      <th>1</th>\n",
              "      <td>2</td>\n",
              "      <td>2</td>\n",
              "    </tr>\n",
              "    <tr>\n",
              "      <th>2</th>\n",
              "      <td>3</td>\n",
              "      <td>3</td>\n",
              "    </tr>\n",
              "    <tr>\n",
              "      <th>3</th>\n",
              "      <td>4</td>\n",
              "      <td>4</td>\n",
              "    </tr>\n",
              "    <tr>\n",
              "      <th>4</th>\n",
              "      <td>5</td>\n",
              "      <td>0</td>\n",
              "    </tr>\n",
              "  </tbody>\n",
              "</table>\n",
              "</div>"
            ],
            "text/plain": [
              "   file  label\n",
              "0     1      0\n",
              "1     2      2\n",
              "2     3      3\n",
              "3     4      4\n",
              "4     5      0"
            ]
          },
          "metadata": {
            "tags": []
          },
          "execution_count": 88
        }
      ]
    },
    {
      "cell_type": "code",
      "metadata": {
        "id": "KvLYCGw2bFbc",
        "colab_type": "code",
        "outputId": "b1a8b508-76fd-432c-8fe1-2e3bd07f342d",
        "colab": {
          "base_uri": "https://localhost:8080/",
          "height": 129
        }
      },
      "source": [
        "df['label'].value_counts()"
      ],
      "execution_count": 0,
      "outputs": [
        {
          "output_type": "execute_result",
          "data": {
            "text/plain": [
              "4    1206\n",
              "3    1101\n",
              "2    1044\n",
              "1     976\n",
              "0     892\n",
              "Name: label, dtype: int64"
            ]
          },
          "metadata": {
            "tags": []
          },
          "execution_count": 10
        }
      ]
    },
    {
      "cell_type": "code",
      "metadata": {
        "id": "z2k-48_LbKFZ",
        "colab_type": "code",
        "colab": {}
      },
      "source": [
        "#Making a new column ImageID which will have Image names\n",
        "df['ImageID'] = df['file'].apply(lambda x: 'Image-' + str(x) + '.jpg')"
      ],
      "execution_count": 0,
      "outputs": []
    },
    {
      "cell_type": "code",
      "metadata": {
        "id": "GYM_5NqebNgL",
        "colab_type": "code",
        "colab": {}
      },
      "source": [
        "del df['file']"
      ],
      "execution_count": 0,
      "outputs": []
    },
    {
      "cell_type": "code",
      "metadata": {
        "id": "ZyPfcMUCbXPe",
        "colab_type": "code",
        "outputId": "a01ed364-a675-4ccb-909f-3c6b30294a78",
        "colab": {
          "base_uri": "https://localhost:8080/",
          "height": 202
        }
      },
      "source": [
        "df.head()"
      ],
      "execution_count": 0,
      "outputs": [
        {
          "output_type": "execute_result",
          "data": {
            "text/html": [
              "<div>\n",
              "<style scoped>\n",
              "    .dataframe tbody tr th:only-of-type {\n",
              "        vertical-align: middle;\n",
              "    }\n",
              "\n",
              "    .dataframe tbody tr th {\n",
              "        vertical-align: top;\n",
              "    }\n",
              "\n",
              "    .dataframe thead th {\n",
              "        text-align: right;\n",
              "    }\n",
              "</style>\n",
              "<table border=\"1\" class=\"dataframe\">\n",
              "  <thead>\n",
              "    <tr style=\"text-align: right;\">\n",
              "      <th></th>\n",
              "      <th>label</th>\n",
              "      <th>ImageID</th>\n",
              "    </tr>\n",
              "  </thead>\n",
              "  <tbody>\n",
              "    <tr>\n",
              "      <th>0</th>\n",
              "      <td>0</td>\n",
              "      <td>Image-1.jpg</td>\n",
              "    </tr>\n",
              "    <tr>\n",
              "      <th>1</th>\n",
              "      <td>2</td>\n",
              "      <td>Image-2.jpg</td>\n",
              "    </tr>\n",
              "    <tr>\n",
              "      <th>2</th>\n",
              "      <td>3</td>\n",
              "      <td>Image-3.jpg</td>\n",
              "    </tr>\n",
              "    <tr>\n",
              "      <th>3</th>\n",
              "      <td>4</td>\n",
              "      <td>Image-4.jpg</td>\n",
              "    </tr>\n",
              "    <tr>\n",
              "      <th>4</th>\n",
              "      <td>0</td>\n",
              "      <td>Image-5.jpg</td>\n",
              "    </tr>\n",
              "  </tbody>\n",
              "</table>\n",
              "</div>"
            ],
            "text/plain": [
              "   label      ImageID\n",
              "0      0  Image-1.jpg\n",
              "1      2  Image-2.jpg\n",
              "2      3  Image-3.jpg\n",
              "3      4  Image-4.jpg\n",
              "4      0  Image-5.jpg"
            ]
          },
          "metadata": {
            "tags": []
          },
          "execution_count": 91
        }
      ]
    },
    {
      "cell_type": "code",
      "metadata": {
        "id": "Qmm1KYqVzUSH",
        "colab_type": "code",
        "outputId": "b337d212-c58d-4d14-87c4-1bc1c6267853",
        "colab": {
          "base_uri": "https://localhost:8080/",
          "height": 53
        }
      },
      "source": [
        "df['label'][df['ImageID'] == 'Image-77.jpg']"
      ],
      "execution_count": 0,
      "outputs": [
        {
          "output_type": "execute_result",
          "data": {
            "text/plain": [
              "58    1\n",
              "Name: label, dtype: int64"
            ]
          },
          "metadata": {
            "tags": []
          },
          "execution_count": 94
        }
      ]
    },
    {
      "cell_type": "code",
      "metadata": {
        "id": "7lpzvpOrdt2r",
        "colab_type": "code",
        "outputId": "778c4066-6e19-4262-8ed6-c7692533be19",
        "colab": {
          "base_uri": "https://localhost:8080/",
          "height": 69
        }
      },
      "source": [
        "df.dtypes"
      ],
      "execution_count": 0,
      "outputs": [
        {
          "output_type": "execute_result",
          "data": {
            "text/plain": [
              "label       int64\n",
              "ImageID    object\n",
              "dtype: object"
            ]
          },
          "metadata": {
            "tags": []
          },
          "execution_count": 16
        }
      ]
    },
    {
      "cell_type": "code",
      "metadata": {
        "id": "-n3V5ashbavS",
        "colab_type": "code",
        "colab": {}
      },
      "source": [
        "X = df['ImageID']\n",
        "y = df['label']\n",
        "\n",
        "X_train, X_test, y_train, y_test = train_test_split(X, y, test_size=0.2, random_state=42)\n",
        "#Now we have Training set and validation set"
      ],
      "execution_count": 0,
      "outputs": []
    },
    {
      "cell_type": "code",
      "metadata": {
        "id": "FzNjTWL6bfxQ",
        "colab_type": "code",
        "outputId": "40a3f456-ccf2-4c01-8dfb-5e72ac9ecd8e",
        "colab": {
          "base_uri": "https://localhost:8080/",
          "height": 35
        }
      },
      "source": [
        "X_train.shape, X_test.shape, y_train.shape, y_test.shape"
      ],
      "execution_count": 0,
      "outputs": [
        {
          "output_type": "execute_result",
          "data": {
            "text/plain": [
              "((4175,), (1044,), (4175,), (1044,))"
            ]
          },
          "metadata": {
            "tags": []
          },
          "execution_count": 10
        }
      ]
    },
    {
      "cell_type": "code",
      "metadata": {
        "id": "ktTMPKFigAag",
        "colab_type": "code",
        "colab": {}
      },
      "source": [
        "#Custom function to move images to corresponding classes folders so that we can use a keras ImageDataGenerator\n",
        "\n",
        "def moveimagestodir(data, label, source, destination):\n",
        "    '''\n",
        "    Parameters : \n",
        "    data : train or validation data (X_train, X_test)\n",
        "    label : class from [0,1,2,3,4]\n",
        "    source : The path where entire data is stored\n",
        "    destination: The destination path\n",
        "    '''\n",
        "    for image in data:\n",
        "        if df['label'][df['ImageID'] == image].values == label:\n",
        "            shutil.copyfile(os.path.join(source, image), os.path.join(destination, image))\n",
        "    return 'Successfully moved ' + str(len(os.listdir(destination))) + ' images' \n"
      ],
      "execution_count": 0,
      "outputs": []
    },
    {
      "cell_type": "code",
      "metadata": {
        "id": "rvRuTlvhhT_k",
        "colab_type": "code",
        "outputId": "103c6f4c-4349-4adf-f58a-9227929bf622",
        "colab": {
          "base_uri": "https://localhost:8080/",
          "height": 35
        }
      },
      "source": [
        "moveimagestodir(X_train, 0, \n",
        "                '/content/drive/My Drive/TechnoPulse/Training_images',\n",
        "                '/content/drive/My Drive/TechnoPulse/data/train/0'\n",
        "                )"
      ],
      "execution_count": 0,
      "outputs": [
        {
          "output_type": "execute_result",
          "data": {
            "text/plain": [
              "'Successfully moved 715 images'"
            ]
          },
          "metadata": {
            "tags": []
          },
          "execution_count": 159
        }
      ]
    },
    {
      "cell_type": "code",
      "metadata": {
        "id": "If_7yAXFo7zt",
        "colab_type": "code",
        "outputId": "aa2dbf01-64de-4121-8734-def92b5fb17e",
        "colab": {
          "base_uri": "https://localhost:8080/",
          "height": 35
        }
      },
      "source": [
        "moveimagestodir(X_train, 1, \n",
        "                '/content/drive/My Drive/TechnoPulse/Training_images',\n",
        "                '/content/drive/My Drive/TechnoPulse/data/train/1'\n",
        "                )"
      ],
      "execution_count": 0,
      "outputs": [
        {
          "output_type": "execute_result",
          "data": {
            "text/plain": [
              "'Successfully moved 780 images'"
            ]
          },
          "metadata": {
            "tags": []
          },
          "execution_count": 63
        }
      ]
    },
    {
      "cell_type": "code",
      "metadata": {
        "id": "tPjyWODglexw",
        "colab_type": "code",
        "outputId": "ae0fc363-dfd9-4d08-b1d3-e3f74399a844",
        "colab": {
          "base_uri": "https://localhost:8080/",
          "height": 35
        }
      },
      "source": [
        "moveimagestodir(X_train, 2, \n",
        "                '/content/drive/My Drive/TechnoPulse/Training_images',\n",
        "                '/content/drive/My Drive/TechnoPulse/data/train/2'\n",
        "                )"
      ],
      "execution_count": 0,
      "outputs": [
        {
          "output_type": "execute_result",
          "data": {
            "text/plain": [
              "'Successfully moved 822 images'"
            ]
          },
          "metadata": {
            "tags": []
          },
          "execution_count": 64
        }
      ]
    },
    {
      "cell_type": "code",
      "metadata": {
        "id": "As9HWpiZlehT",
        "colab_type": "code",
        "outputId": "9e176841-ecde-4bcd-9b18-b52b6d01406e",
        "colab": {
          "base_uri": "https://localhost:8080/",
          "height": 35
        }
      },
      "source": [
        "moveimagestodir(X_train, 3, \n",
        "                '/content/drive/My Drive/TechnoPulse/Training_images',\n",
        "                '/content/drive/My Drive/TechnoPulse/data/train/3'\n",
        "                )"
      ],
      "execution_count": 0,
      "outputs": [
        {
          "output_type": "execute_result",
          "data": {
            "text/plain": [
              "'Successfully moved 890 images'"
            ]
          },
          "metadata": {
            "tags": []
          },
          "execution_count": 65
        }
      ]
    },
    {
      "cell_type": "code",
      "metadata": {
        "id": "cgg0NfpbleUE",
        "colab_type": "code",
        "outputId": "fb6a78c9-a216-4882-b192-a79e38fa84c0",
        "colab": {
          "base_uri": "https://localhost:8080/",
          "height": 35
        }
      },
      "source": [
        "moveimagestodir(X_train, 4, \n",
        "                '/content/drive/My Drive/TechnoPulse/Training_images',\n",
        "                '/content/drive/My Drive/TechnoPulse/data/train/4'\n",
        "                )"
      ],
      "execution_count": 0,
      "outputs": [
        {
          "output_type": "execute_result",
          "data": {
            "text/plain": [
              "'Successfully moved 968 images'"
            ]
          },
          "metadata": {
            "tags": []
          },
          "execution_count": 66
        }
      ]
    },
    {
      "cell_type": "code",
      "metadata": {
        "id": "d6gDcOhJtuBD",
        "colab_type": "code",
        "outputId": "8c27ac23-976c-4ad4-c8d1-6cf77a65f52b",
        "colab": {
          "base_uri": "https://localhost:8080/",
          "height": 35
        }
      },
      "source": [
        "moveimagestodir(X_test, 0, \n",
        "                '/content/drive/My Drive/TechnoPulse/Training_images',\n",
        "                '/content/drive/My Drive/TechnoPulse/data/validation/0'\n",
        "                )"
      ],
      "execution_count": 0,
      "outputs": [
        {
          "output_type": "execute_result",
          "data": {
            "text/plain": [
              "'Successfully moved 177 images'"
            ]
          },
          "metadata": {
            "tags": []
          },
          "execution_count": 68
        }
      ]
    },
    {
      "cell_type": "code",
      "metadata": {
        "id": "S16EIxxmtto4",
        "colab_type": "code",
        "outputId": "0d38f09f-a505-4c0a-9186-c0ecc0e5e08f",
        "colab": {
          "base_uri": "https://localhost:8080/",
          "height": 35
        }
      },
      "source": [
        "moveimagestodir(X_test, 1, \n",
        "                '/content/drive/My Drive/TechnoPulse/Training_images',\n",
        "                '/content/drive/My Drive/TechnoPulse/data/validation/1'\n",
        "                )"
      ],
      "execution_count": 0,
      "outputs": [
        {
          "output_type": "execute_result",
          "data": {
            "text/plain": [
              "'Successfully moved 196 images'"
            ]
          },
          "metadata": {
            "tags": []
          },
          "execution_count": 69
        }
      ]
    },
    {
      "cell_type": "code",
      "metadata": {
        "id": "FJuiymOYumR9",
        "colab_type": "code",
        "outputId": "d011f954-b5a2-49c3-cf59-2ee4c084e3ba",
        "colab": {
          "base_uri": "https://localhost:8080/",
          "height": 35
        }
      },
      "source": [
        "moveimagestodir(X_test, 2, \n",
        "                '/content/drive/My Drive/TechnoPulse/Training_images',\n",
        "                '/content/drive/My Drive/TechnoPulse/data/validation/2'\n",
        "                )"
      ],
      "execution_count": 0,
      "outputs": [
        {
          "output_type": "execute_result",
          "data": {
            "text/plain": [
              "'Successfully moved 222 images'"
            ]
          },
          "metadata": {
            "tags": []
          },
          "execution_count": 70
        }
      ]
    },
    {
      "cell_type": "code",
      "metadata": {
        "id": "GwdZai9YupJD",
        "colab_type": "code",
        "outputId": "c42c4387-2762-4c7b-cf01-668da1f0f09a",
        "colab": {
          "base_uri": "https://localhost:8080/",
          "height": 35
        }
      },
      "source": [
        "moveimagestodir(X_test, 3, \n",
        "                '/content/drive/My Drive/TechnoPulse/Training_images',\n",
        "                '/content/drive/My Drive/TechnoPulse/data/validation/3'\n",
        "                )"
      ],
      "execution_count": 0,
      "outputs": [
        {
          "output_type": "execute_result",
          "data": {
            "text/plain": [
              "'Successfully moved 211 images'"
            ]
          },
          "metadata": {
            "tags": []
          },
          "execution_count": 71
        }
      ]
    },
    {
      "cell_type": "code",
      "metadata": {
        "id": "Gp_8Hz1rurVz",
        "colab_type": "code",
        "outputId": "f6b9a9c8-17e7-4057-a53f-f1dcfe9873d5",
        "colab": {
          "base_uri": "https://localhost:8080/",
          "height": 35
        }
      },
      "source": [
        "moveimagestodir(X_test, 4, \n",
        "                '/content/drive/My Drive/TechnoPulse/Training_images',\n",
        "                '/content/drive/My Drive/TechnoPulse/data/validation/4'\n",
        "                )"
      ],
      "execution_count": 0,
      "outputs": [
        {
          "output_type": "execute_result",
          "data": {
            "text/plain": [
              "'Successfully moved 238 images'"
            ]
          },
          "metadata": {
            "tags": []
          },
          "execution_count": 72
        }
      ]
    }
  ]
}